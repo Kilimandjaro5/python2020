{
 "cells": [
  {
   "cell_type": "markdown",
   "metadata": {
    "slideshow": {
     "slide_type": "slide"
    }
   },
   "source": [
    "# Bevezetés a programozásba\n",
    "\n",
    "(2020. 03. 13. - 3. óra)\n",
    "\n",
    "Mittelholcz Iván\n",
    "\n",
    "---\n",
    "\n",
    "## 1. Mi a programozás?\n",
    "\n",
    "Egy algoritmus implementálása egy programozási nyelven.\n",
    "\n",
    "### Mi egy algoritmus?\n",
    "\n",
    "Megengedett műveleteket tartalmazó eljárás, ami megold egy problémát.\n",
    "\n",
    "### Mik a *megengedett műveletek*?\n",
    "\n",
    "- Összetett feladat megoldása: felbontás egyszerűbb részfeladatokra, amíg olyan feladatokhoz nem jutunk, amiket már meg tudunk oldani (a nyelvben benne van)\n",
    "\n",
    "- I/O (input, output): általában nem része az algoritmusnak, de része a programnak \n",
    "\n",
    "## 2. Hogyan futtatunk egy programot?\n",
    "\n",
    "A gép gépi nyelven ért $\\to$ a programot át kell alakítani gépi nyelvre.\n",
    "\n",
    "### Fordítás és értelmezés\n",
    "\n",
    "Fordítás:\n",
    "\n",
    "- a forráskódból egy bináris fájlt állít elő, ami érthető a gépnek\n",
    "- a *fordító*ra ezután nincs szükség, a bináris nélküle is futtatható\n",
    "- a bináris fájl architektúra- és platformfüggő\n",
    "\n",
    "Értelmezés:\n",
    "\n",
    "- a forráskódot *tolmácsolja* a gépnek, nem hoz létre új fájlt\n",
    "- az *értelmezőre* minden futtatásnál szükésg van\n",
    "- nincs bináris fájl, maga az *értelmező* (akárcsak a *fordító*) viszont architektúra- és platformfüggő\n",
    "\n",
    "### Futtatás unix-szerű környezetben\n",
    "\n",
    "Bináris fájl:\n",
    "\n",
    "```sh\n",
    "./binárisfájlneve\n",
    "```\n",
    "\n",
    "Értelmezett nyelvek:\n",
    "\n",
    "```sh\n",
    "interpreter fájl\n",
    "# például:\n",
    "python myscript.py\n",
    "```\n",
    "\n",
    "Jupyter: Cella futtatása `Ctrl + Enter`-rel\n",
    "\n",
    "## 3. Mi történik a futás során?\n",
    "\n",
    "- beolvasás háttértárról (HDD, SSD) memóriába (RAM)\n",
    "  - utasítások\n",
    "  - adatok\n",
    "\n",
    "- futtatás: a processzor végrehajtja az utasításokat az adatokon\n",
    "\n",
    "- kilépés, a memória felszabadíthatóvá válik"
   ]
  }
 ],
 "metadata": {
  "kernelspec": {
   "display_name": "Python 3",
   "language": "python",
   "name": "python3"
  },
  "language_info": {
   "codemirror_mode": {
    "name": "ipython",
    "version": 3
   },
   "file_extension": ".py",
   "mimetype": "text/x-python",
   "name": "python",
   "nbconvert_exporter": "python",
   "pygments_lexer": "ipython3",
   "version": "3.7.6"
  }
 },
 "nbformat": 4,
 "nbformat_minor": 2
}
