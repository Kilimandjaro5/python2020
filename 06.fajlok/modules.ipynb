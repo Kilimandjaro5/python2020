{
 "cells": [
  {
   "cell_type": "markdown",
   "metadata": {
    "slideshow": {
     "slide_type": "slide"
    }
   },
   "source": [
    "# String-formázás, printelés, fájlkezelés\n",
    "\n",
    "---\n",
    "\n",
    "(2020. 12. 04.)\n",
    "\n",
    "Mittelholcz Iván"
   ]
  },
  {
   "cell_type": "markdown",
   "metadata": {
    "slideshow": {
     "slide_type": "skip"
    }
   },
   "source": [
    "# 2.6. Kódszervezés\n",
    "\n",
    "Legyen a kód futtatható és importálható is:\n",
    "\n",
    "```py\n",
    "import sys\n",
    "\n",
    "def hasznos_fuggveny(param1, param2):\n",
    "   # ...\n",
    "   return 42\n",
    "   \n",
    "if __name__ == '__main__':\n",
    "    hasznos_fuggveny(sys.argv[1], sys.argv[2])\n",
    "```"
   ]
  },
  {
   "cell_type": "markdown",
   "metadata": {},
   "source": [
    "## 0. Paraméterek kicsomagolása (*unpacking*)"
   ]
  },
  {
   "cell_type": "markdown",
   "metadata": {},
   "source": [
    "Ha van egy függvényünk és egy gyűjteményes adatunk és a gyűjteményünk pont annyi elemet tartalmaz, mint amennyit a függvény paraméterként vár, akkor átadhatjuk az adatainkat egyszerűbben is a függvénynek. Példa:"
   ]
  },
  {
   "cell_type": "code",
   "execution_count": null,
   "metadata": {},
   "outputs": [],
   "source": [
    "# Kicsomagolás nélkül:\n",
    "\n",
    "def osztas(osztando, oszto):\n",
    "    return osztando / oszto\n",
    "\n",
    "l = [10, 20]\n",
    "\n",
    "print(osztas(l[0], l[1]))"
   ]
  },
  {
   "cell_type": "code",
   "execution_count": null,
   "metadata": {},
   "outputs": [],
   "source": [
    "# kicsomagolással (list, tuple, string, set):\n",
    "\n",
    "print(osztas(*l))"
   ]
  },
  {
   "cell_type": "code",
   "execution_count": null,
   "metadata": {},
   "outputs": [],
   "source": [
    "# szotarak kicsomagolása\n",
    "\n",
    "d = {'osztando': 10, 'oszto': 20}\n",
    "print(osztas(**d))"
   ]
  },
  {
   "cell_type": "code",
   "execution_count": null,
   "metadata": {},
   "outputs": [],
   "source": [
    "s = {10, 20}\n",
    "osztas(*s)"
   ]
  },
  {
   "cell_type": "markdown",
   "metadata": {},
   "source": [
    "## 1. String-formázás\n",
    "\n",
    "A stringekbe illeszthetők változók vagy kifejezések is, erre való a formázás. Ehhez a stringek `.format()` metódusát lehet használni. Példa:"
   ]
  },
  {
   "cell_type": "code",
   "execution_count": null,
   "metadata": {},
   "outputs": [],
   "source": [
    "x = 10\n",
    "text = 'Az érték {0}'\n",
    "print(text.format(x))  # változó\n",
    "print(text.format(20))  # literál\n",
    "print(text.format(x + 20))  # kifejezés"
   ]
  },
  {
   "cell_type": "code",
   "execution_count": null,
   "metadata": {},
   "outputs": [],
   "source": [
    "# kapcsoszárójel megadása:\n",
    "\n",
    "# ha nincs format, nincs probléma:\n",
    "print('{0}')\n",
    "\n",
    "# ha van format, a kapcsoszárójelnek szintaktikai szerepe lesz\n",
    "print('{0}'.format(x))\n",
    "\n",
    "# ha tényleg {}-et szeretnénk a szövegbe, akkor duplát kell használnunk\n",
    "print('{0} != {{0}}'.format(x))\n",
    "\n",
    "# ha {}-t és behelyettesítést is szeretnénk, triplát kell használnunk\n",
    "print('{0} != {{{0}}}'.format(x))\n",
    "\n",
    "# ha dupla {}-t  szeretnénk, négyszerest kell használnunk\n",
    "print('{0} != {{{{0}}}}'.format(x))\n",
    "\n",
    "# ha dupla {}-t és behelyettesítést is szeretnénk, ötszöröst kell használnunk\n",
    "print('{0} != {{{{{0}}}}}'.format(x))\n",
    "\n",
    "# s.í.t."
   ]
  },
  {
   "cell_type": "markdown",
   "metadata": {},
   "source": [
    "Lehetőségek értékek megadására:\n",
    "\n",
    "- pozíció\n",
    "- kulcsszó\n",
    "- szótár"
   ]
  },
  {
   "cell_type": "code",
   "execution_count": null,
   "metadata": {},
   "outputs": [],
   "source": [
    "# pozíció szerint: \n",
    "\n",
    "x = 10\n",
    "y = 20\n",
    "\n",
    "print('x = {0} és y = {1}'.format(x, y))\n",
    "\n",
    "# lehet más is a sorrend\n",
    "print('y = {1} és x = {0}'.format(x, y))\n",
    "\n",
    "# lehet ismétlés is:\n",
    "print('x = {0} és y = {1}. Mondtam már, hogy az x az {0}?'.format(x, y))\n",
    "\n",
    "# ha nem akarunk sem a sorrenddel, sem az ismétléssel variálni, akkor a stringben elhagyhatók a sorszámok\n",
    "print('x = {} és y = {}'.format(x, y))"
   ]
  },
  {
   "cell_type": "code",
   "execution_count": null,
   "metadata": {},
   "outputs": [],
   "source": [
    "# kulcsszóval\n",
    "\n",
    "print('x = {my_x} és y = {my_y}'.format(my_x=x, my_y=y))\n",
    "print('y = {my_y} és x = {my_x}'.format(my_x=x, my_y=y))\n",
    "print('y = {my_y} és x = {my_x}. Mondtam már, hogy az x az {my_x}?'.format(my_x=x, my_y=y))"
   ]
  },
  {
   "cell_type": "code",
   "execution_count": null,
   "metadata": {},
   "outputs": [],
   "source": [
    "# szótárral\n",
    "\n",
    "my_dict = {\n",
    "    'my_x': 10,\n",
    "    'my_y': 20\n",
    "}\n",
    "\n",
    "print('x = {my_x} és y = {my_y}'.format(**my_dict)) # **: egy szótár értékeinek kicsomagolása"
   ]
  },
  {
   "cell_type": "markdown",
   "metadata": {},
   "source": [
    "## 2. Printelés"
   ]
  },
  {
   "cell_type": "markdown",
   "metadata": {},
   "source": [
    "- separator\n",
    "- end\n",
    "\n",
    "TODO!"
   ]
  },
  {
   "cell_type": "markdown",
   "metadata": {},
   "source": [
    "## 3. Fájlkezelés"
   ]
  },
  {
   "cell_type": "markdown",
   "metadata": {
    "slideshow": {
     "slide_type": "-"
    }
   },
   "source": [
    "### 3.1. Fájl olvasása\n",
    "\n",
    "Fájl megnyitása:\n",
    "\n",
    "```py\n",
    "f = open('path/to/file', 'r')\n",
    "```\n",
    "\n",
    "Szöveges fájl tartalmának beolvasása strgingbe:\n",
    "\n",
    "```py\n",
    "text = f.read()\n",
    "```\n",
    "\n",
    "Szöveges fájl sorainak beolvasása listába:\n",
    "\n",
    "```py\n",
    "lines = f.readlines()\n",
    "```\n",
    "\n",
    "Szöveges fájl bejárása közvetlenül:\n",
    "\n",
    "```py\n",
    "for line in f:\n",
    "    process(line)\n",
    "```\n",
    "\n",
    "Fájl bezárása:\n",
    "\n",
    "```py\n",
    "f.close()\n",
    "```"
   ]
  },
  {
   "cell_type": "markdown",
   "metadata": {
    "slideshow": {
     "slide_type": "-"
    }
   },
   "source": [
    "### 3.2. Fájl írása\n",
    "\n",
    "Fájl megnyitása írásra:\n",
    "\n",
    "```py\n",
    "f = open('path/to/file', 'w')\n",
    "```\n",
    "\n",
    "Fájl megnyitása hozzáfűzésre:\n",
    "\n",
    "```py\n",
    "f = open('path/to/file', 'a')\n",
    "```\n",
    "\n",
    "Írás fájlba:\n",
    "\n",
    "```py\n",
    "f.write(text)\n",
    "```\n",
    "\n",
    "Vagy\n",
    "\n",
    "```py\n",
    "print(text, file=f)\n",
    "```\n",
    "\n",
    "Fájl bezárása: volt már..."
   ]
  },
  {
   "cell_type": "markdown",
   "metadata": {
    "slideshow": {
     "slide_type": "-"
    }
   },
   "source": [
    "### 3.3. `with` – avagy a `close()` megspórolása\n",
    "\n",
    "(Úgy hívják, hogy kontextus menedzser...)\n",
    "\n",
    "```py\n",
    "with open('path', 'r') as inp:\n",
    "    for line in inp:\n",
    "        process(line)\n",
    "        # ...\n",
    "```"
   ]
  },
  {
   "cell_type": "markdown",
   "metadata": {
    "slideshow": {
     "slide_type": "-"
    }
   },
   "source": [
    "### 3.4. stdin, stdout, stderr\n",
    "\n",
    "Nem kell megnyitni (és bezárni sem), csak importálni!\n",
    "\n",
    "Olvasás a stdin-ről:\n",
    "\n",
    "```py\n",
    "import sys\n",
    "\n",
    "for line in sys.stdin:\n",
    "    process(line)\n",
    "```\n",
    "\n",
    "Írás:\n",
    "\n",
    "```py\n",
    "sys.stdout.write(text)\n",
    "```\n",
    "\n",
    "vagy\n",
    "\n",
    "```py\n",
    "print(text, file=sys.stdout)\n",
    "```\n",
    "\n",
    "stderr: ugyanez"
   ]
  },
  {
   "cell_type": "markdown",
   "metadata": {
    "slideshow": {
     "slide_type": "-"
    }
   },
   "source": [
    "# Feladatok\n",
    "\n",
    "1. Írjunk olyan programot, aminek egy fájlt lehet megadni (`input()`) és szógyakoriságot számol számol (csökkenő sorrend)!\n",
    "2. Ugyan ez, de lehessen parancssorból is futtatni és modulként is importálni.\n",
    "3. Ugyan ez, de paranccsoros futtatásnál lehessen neki fájlt megadni és csak akkor olvasson a stdin-ről, ha nincs fájlnév megadva neki."
   ]
  },
  {
   "cell_type": "markdown",
   "metadata": {
    "slideshow": {
     "slide_type": "slide"
    }
   },
   "source": [
    "# Köszönöm a figyelmet!"
   ]
  }
 ],
 "metadata": {
  "kernelspec": {
   "display_name": "Python 3",
   "language": "python",
   "name": "python3"
  },
  "language_info": {
   "codemirror_mode": {
    "name": "ipython",
    "version": 3
   },
   "file_extension": ".py",
   "mimetype": "text/x-python",
   "name": "python",
   "nbconvert_exporter": "python",
   "pygments_lexer": "ipython3",
   "version": "3.7.9"
  }
 },
 "nbformat": 4,
 "nbformat_minor": 2
}
