{
 "cells": [
  {
   "cell_type": "code",
   "execution_count": null,
   "id": "asian-queensland",
   "metadata": {},
   "outputs": [],
   "source": [
    "text = 'alma, alma, piros alma.'\n",
    "\n",
    "for i in text:\n",
    "    print(i)"
   ]
  },
  {
   "cell_type": "code",
   "execution_count": null,
   "id": "animal-bhutan",
   "metadata": {},
   "outputs": [],
   "source": [
    "for i in text.split():\n",
    "    print(i)"
   ]
  },
  {
   "cell_type": "code",
   "execution_count": null,
   "id": "excess-state",
   "metadata": {},
   "outputs": [],
   "source": [
    "for i in text.strip('.,').split():\n",
    "    print(i)"
   ]
  },
  {
   "cell_type": "code",
   "execution_count": null,
   "id": "surface-offset",
   "metadata": {},
   "outputs": [],
   "source": [
    "for i in text.split().strip('.,'):\n",
    "    print(i)"
   ]
  },
  {
   "cell_type": "code",
   "execution_count": null,
   "id": "hispanic-lingerie",
   "metadata": {},
   "outputs": [],
   "source": [
    "for i in text.split():\n",
    "    print(i.strip('.,'))"
   ]
  },
  {
   "cell_type": "code",
   "execution_count": 1,
   "id": "existing-egyptian",
   "metadata": {},
   "outputs": [
    {
     "name": "stdout",
     "output_type": "stream",
     "text": [
      "10 10 10\n"
     ]
    }
   ],
   "source": [
    "import proba\n",
    "\n",
    "#print(proba.x)"
   ]
  },
  {
   "cell_type": "code",
   "execution_count": null,
   "id": "characteristic-speaking",
   "metadata": {},
   "outputs": [],
   "source": [
    "import tag\n",
    "\n",
    "szoveg = tag.get_text()\n",
    "formatum = tag.get_format()\n",
    "tag.elemzo()"
   ]
  }
 ],
 "metadata": {
  "kernelspec": {
   "display_name": "Python 3",
   "language": "python",
   "name": "python3"
  },
  "language_info": {
   "codemirror_mode": {
    "name": "ipython",
    "version": 3
   },
   "file_extension": ".py",
   "mimetype": "text/x-python",
   "name": "python",
   "nbconvert_exporter": "python",
   "pygments_lexer": "ipython3",
   "version": "3.7.9"
  }
 },
 "nbformat": 4,
 "nbformat_minor": 5
}
