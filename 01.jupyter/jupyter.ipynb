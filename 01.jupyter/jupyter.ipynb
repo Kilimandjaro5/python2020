{
 "cells": [
  {
   "cell_type": "markdown",
   "metadata": {},
   "source": [
    "# Notebook"
   ]
  },
  {
   "cell_type": "markdown",
   "metadata": {},
   "source": [
    "## Tartalom"
   ]
  },
  {
   "cell_type": "markdown",
   "metadata": {},
   "source": [
    "* [1. Infók](#1.-Infók)\n",
    "* [2. Telepítés](#2.-Telepítés)\n",
    "* [3. Indítás](#3.-Indítás)\n",
    "* [4. Alapok](#4.-Alapok)\n",
    "* [5. Szöveges cella](#5.-Szöveges-cella)\n",
    "* [6. Kódcella](#6.-Kódcella)\n",
    "* [7. Egyebek](#7.-Egyebek)"
   ]
  },
  {
   "cell_type": "markdown",
   "metadata": {},
   "source": [
    "## 1. Infók"
   ]
  },
  {
   "cell_type": "markdown",
   "metadata": {},
   "source": [
    "* [jupyter notebook docs](https://jupyter-notebook.readthedocs.io/en/stable/index.html)\n",
    "* [ipython docs](https://ipython.readthedocs.io/en/stable/index.html)\n",
    "* [hivatalos tutorial](http://nbviewer.jupyter.org/github/ipython/ipython/blob/3.x/examples/Notebook/Index.ipynb)\n",
    "* [tippek és trükkök](https://www.dataquest.io/blog/jupyter-notebook-tips-tricks-shortcuts/)"
   ]
  },
  {
   "cell_type": "markdown",
   "metadata": {},
   "source": [
    "## 2. Telepítés, futtatás"
   ]
  },
  {
   "cell_type": "markdown",
   "metadata": {},
   "source": [
    "A *Jupyter* csomag elvileg része az *Anacondá*-nak, ezért nem kell külön telepíteni. Ha mégsem, akkor:\n",
    "\n",
    "```sh\n",
    "conda install jupyter\n",
    "```\n",
    "\n",
    "Indítás Windowson: <https://jupyter-notebook-beginner-guide.readthedocs.io/en/latest/execute.html>\n",
    "\n",
    "Indítás parancssorból: `jupyter-notebook`"
   ]
  },
  {
   "cell_type": "markdown",
   "metadata": {},
   "source": [
    "## 3. Alapok"
   ]
  },
  {
   "cell_type": "markdown",
   "metadata": {},
   "source": [
    "Egy notebook cellákra oszlik. Az aktuális cella keretezéssel ki van emelve. Egy aktuális cellánál vagy szerkesztési módban vagyunk, vagy parancsmódban.\n",
    "\n",
    "Parancs módból átlépés szerkesztési módba: `Enter`.\n",
    "\n",
    "Szerkesztési módból átlépés parancs módba: `Esc`."
   ]
  },
  {
   "cell_type": "markdown",
   "metadata": {},
   "source": [
    "Parancs módban az alábbiakat tehetjük:\n",
    "\n",
    "* Új cella létrehozása az aktuális alatt: `B`\n",
    "* Új cella létrehozása az aktuális felett: `A`\n",
    "* Aktuális cella törlése: `X` (vágólapra helyezés)\n",
    "* Aktuális cella másolása: `C`\n",
    "* Vágólapon lévő cella beillesztése az aktuális alá: `V`\n",
    "* Keresés & csere: `F`\n",
    "* Segítség: `H` (minden elérhető parancsot megjelenít)"
   ]
  },
  {
   "cell_type": "markdown",
   "metadata": {},
   "source": [
    "Szerkesztési módban hagyományosan szerkeszthetünk, további lehetőségekhez l. `Esc H`."
   ]
  },
  {
   "cell_type": "markdown",
   "metadata": {},
   "source": [
    "A celláknak két alaptípusa van:\n",
    "\n",
    "1. Szöveges (Markdown, HTML, Latex)\n",
    "2. Futtatható kód (Python)"
   ]
  },
  {
   "cell_type": "markdown",
   "metadata": {},
   "source": [
    "Parancsmódban válthatunk a két típus között:\n",
    "\n",
    "* Szöveges $\\to$ Kód: `Y`\n",
    "* Kód $\\to$ Szöveges: `M`"
   ]
  },
  {
   "cell_type": "markdown",
   "metadata": {},
   "source": [
    "Mind a szöveges, mind a kód típusú cellákat `Ctrl+Enter`-rel lehet futtatni (akár szerkesztési, akár parancsmódban vagyunk)."
   ]
  },
  {
   "cell_type": "markdown",
   "metadata": {},
   "source": [
    "## 4. Szöveges cella"
   ]
  },
  {
   "cell_type": "markdown",
   "metadata": {},
   "source": [
    "A szöveges cellákban használhatunk Markdown-t, HTML-t és Latex-et is formázott szöveg előállítására."
   ]
  },
  {
   "cell_type": "markdown",
   "metadata": {},
   "source": [
    "### 4.1. Markdown"
   ]
  },
  {
   "cell_type": "markdown",
   "metadata": {},
   "source": [
    "* eredeti [markdown](https://daringfireball.net/projects/markdown/)\n",
    "* [GitHub Flavored Markdown](https://guides.github.com/features/mastering-markdown/)"
   ]
  },
  {
   "cell_type": "markdown",
   "metadata": {},
   "source": [
    "Címsorok:\n",
    "\n",
    "```\n",
    "# Heading 1\n",
    "\n",
    "## Heading 2\n",
    "\n",
    "### Heading 3\n",
    "\n",
    "#### Heading 4\n",
    "\n",
    "##### Heading 5\n",
    "```\n",
    "\n",
    "# Heading 1\n",
    "\n",
    "## Heading 2\n",
    "\n",
    "### Heading 3\n",
    "\n",
    "#### Heading 4\n",
    "\n",
    "##### Heading 5"
   ]
  },
  {
   "cell_type": "markdown",
   "metadata": {},
   "source": [
    "Számozott lista:\n",
    "\n",
    "```\n",
    "1. első\n",
    "2. második\n",
    "    1. kettő per á\n",
    "    2. kettő per bé\n",
    "        1. kettőbé per á\n",
    "```\n",
    "\n",
    "1. első\n",
    "2. második\n",
    "    1. kettő per á\n",
    "    2. kettő per bé\n",
    "        1. kettőbé per á"
   ]
  },
  {
   "cell_type": "markdown",
   "metadata": {},
   "source": [
    "Számozatlan lista:\n",
    "\n",
    "```\n",
    "* Valami\n",
    "* Valami más\n",
    "    * egyfelől\n",
    "    * másfelől\n",
    "        * de még ez is van\n",
    "```\n",
    "\n",
    "* Valami\n",
    "* Valami más\n",
    "    * egyfelől\n",
    "    * másfelől\n",
    "        * de még ez is van"
   ]
  },
  {
   "cell_type": "markdown",
   "metadata": {},
   "source": [
    "\n",
    "*dőlt*: `dőlt` vagy `*dőlt*`\n",
    "\n",
    "__félkövér__: `__félkövér__` vagy `**félkövér**`\n",
    "\n",
    "__*félkövér és dőlt*__: `__*félkövér és dőlt*__` vagy `**_félkövér és dőlt_**`\n",
    "\n",
    "[link](): `[szöveg](example.com)`"
   ]
  },
  {
   "cell_type": "markdown",
   "metadata": {},
   "source": [
    "`kód`: `` `kód` ``\n",
    "\n",
    "kódblokk:\n",
    "\n",
    "````\n",
    "```py\n",
    "def identity(x):\n",
    "    \"\"\"Returns the same value that was used as its argument.\n",
    "    \"\"\"\n",
    "    return x\n",
    "```\n",
    "````\n",
    "\n",
    "```py\n",
    "def identity(x):\n",
    "    \"\"\"Returns the same value that was used as its argument.\n",
    "    \"\"\"\n",
    "    return x\n",
    "```"
   ]
  },
  {
   "cell_type": "markdown",
   "metadata": {},
   "source": [
    "Táblázat:\n",
    "\n",
    "```\n",
    "| fej | léc |\n",
    "|-----|-----|\n",
    "| a   | 1   |\n",
    "| b   | 20  |\n",
    "| c   | 300 |\n",
    "```\n",
    "\n",
    "| fej | léc |\n",
    "|-----|-----|\n",
    "| a   | 1   |\n",
    "| b   | 20  |\n",
    "| c   | 300 |\n"
   ]
  },
  {
   "cell_type": "markdown",
   "metadata": {},
   "source": [
    "### 4.2. HTML"
   ]
  },
  {
   "cell_type": "markdown",
   "metadata": {},
   "source": [
    "Mivel a HTML részhalmaza a markdown-nak, tetszőleges HTML kód is írható.\n",
    "\n",
    "Pl. kép beillesztése:\n",
    "\n",
    "```\n",
    "<img src='http://jupyter.org/assets/main-logo.svg' />\n",
    "```\n",
    "<img src='http://jupyter.org/assets/main-logo.svg' />"
   ]
  },
  {
   "cell_type": "markdown",
   "metadata": {},
   "source": [
    "### 4.3. Latex"
   ]
  },
  {
   "cell_type": "markdown",
   "metadata": {},
   "source": [
    "Használhatjuk a Latex matametikai módját ([MathJax](https://www.mathjax.org/) alapon).\n",
    "\n",
    "Sorbeli képletek egyszeres dollárjelek között: `$e^{i\\pi} + 1 = 0$`-ből $e^{i\\pi} + 1 = 0$ lesz.\n",
    "\n",
    "Sorközi képletek dupla dollárjelek között:\n",
    "\n",
    "```\n",
    "$$e^{i\\pi} + 1 = 0$$\n",
    "```\n",
    "\n",
    "$$e^{i\\pi} + 1 = 0$$"
   ]
  },
  {
   "cell_type": "markdown",
   "metadata": {},
   "source": [
    "## 5. Kódcella"
   ]
  },
  {
   "cell_type": "markdown",
   "metadata": {},
   "source": [
    "A kódcellák alapvetően python kódot várnak, azt értelmezik / futtatják, a kimenetet pedig a cella alá írják.\n",
    "\n",
    "Az aktuálisan gépelt parancs automatikusan kiegészíthető `TAB`-bal.\n",
    "\n",
    "A kimenet elrejthető és előhívható parancsmódban `Esc + O`-val. Ha a parancs végére `;`-t teszünk, akkor a kimenet nem jelenik meg semilyen formában (printelés, plottolás igen)."
   ]
  },
  {
   "cell_type": "code",
   "execution_count": 3,
   "metadata": {},
   "outputs": [
    {
     "name": "stdout",
     "output_type": "stream",
     "text": [
      "print: 10\n"
     ]
    },
    {
     "data": {
      "text/plain": [
       "10"
      ]
     },
     "execution_count": 3,
     "metadata": {},
     "output_type": "execute_result"
    }
   ],
   "source": [
    "print('print:', 10)\n",
    "10"
   ]
  },
  {
   "cell_type": "code",
   "execution_count": 2,
   "metadata": {},
   "outputs": [
    {
     "name": "stdout",
     "output_type": "stream",
     "text": [
      "print 10\n"
     ]
    }
   ],
   "source": [
    "print('print', 10);\n",
    "10;"
   ]
  },
  {
   "cell_type": "markdown",
   "metadata": {},
   "source": [
    "A standard python-hoz képest sok extra be van építve, ami megkönnyíti a munkát. Alább a dokumentációhoz való hozzáférés."
   ]
  },
  {
   "cell_type": "markdown",
   "metadata": {},
   "source": [
    "### 5.1. Dokumentáció"
   ]
  },
  {
   "cell_type": "markdown",
   "metadata": {},
   "source": [
    "Az egyes objektumok dokumentációjához a nevük után írt `?` vagy `??` karakterekkel lehet hozzáférni. A `??` kiegészítő információkat is megjelenít, ha rendelkezésre állnak."
   ]
  },
  {
   "cell_type": "code",
   "execution_count": 1,
   "metadata": {},
   "outputs": [],
   "source": [
    "# objektumok dokumnetációja 1.\n",
    "a = 10\n",
    "a?"
   ]
  },
  {
   "cell_type": "code",
   "execution_count": 5,
   "metadata": {},
   "outputs": [],
   "source": [
    "# objektumok dokumnetációja 2.\n",
    "print?"
   ]
  },
  {
   "cell_type": "code",
   "execution_count": 6,
   "metadata": {},
   "outputs": [],
   "source": [
    "# objektumok dokumnetációja 3.\n",
    "\n",
    "def fun():\n",
    "    '''Alaposan dokumentált függvény.\n",
    "    '''\n",
    "    return\n",
    "\n",
    "fun?"
   ]
  },
  {
   "cell_type": "code",
   "execution_count": 8,
   "metadata": {},
   "outputs": [],
   "source": [
    "# az IPython dokumentációja\n",
    "?"
   ]
  },
  {
   "cell_type": "markdown",
   "metadata": {},
   "source": [
    "### 5.2. Magic"
   ]
  },
  {
   "cell_type": "markdown",
   "metadata": {},
   "source": [
    "`%`-kal kezdődnek a nem-standard python utasítások, amik az IPython-nak szólnak (*line magics*).\n",
    "\n",
    "`%%`-kal kezdődnek az egész cellákra vonatkozó nem-standard utasítások (*cell magics*).\n",
    "\n",
    "Elérhetők varázslatok listája: `%lsmagic` \n",
    "\n",
    "Teljes dokumentáció: `%magic`.\n",
    "\n",
    "Egyes varázslatok dokumentációja: `%<varázslat>?`\n",
    "\n",
    "Pár fontosabb *magic*:\n",
    "\n",
    "* `%run <script-name.py>`: külső fájl futtatása\n",
    "* `%load <url/script-name.py>`: külső kód betöltése a cellába\n",
    "* profilozás (`pip install line_profiler memory_profiler` kellhet, conda is tartalmazza ezeket):\n",
    "    * `%time <statement>`: futási idő mérése\n",
    "    * `%timeit <statement>`: futási idő mérése ismétléssel ([docs](https://docs.python.org/3/library/timeit.html))\n",
    "    * `%memit <statement>`: memóriahasználat\n",
    "    * `%prun <statement>`: kód futtatása profilozással (l. [Python Profilers](https://docs.python.org/3/library/profile.html), ill. `%prun?`)\n",
    "    * `%lprun`: uez soronként\n",
    "    * `%mprun`: soronkénti memóriahasználat\n",
    "* `%debug`: interaktív debug shell megnyitása ([pdb](https://docs.python.org/3/library/pdb.html), [ipdb github](https://github.com/gotcha/ipdb), [ipdb how-to](https://iqbalnaved.wordpress.com/2013/10/17/how-to-debug-in-ipython-using-ipdb/))\n",
    "* `%matplotlib`: plottolás\n",
    "* `%env`: környezeti változók belállítása (néhány library-nél -- pl. Theano -- kellhet)\n",
    "* `%%cython`: ha valaki [Cython](http://docs.cython.org/en/latest/) kódot szeretne írni notebookba.\n",
    "* `%autoreload`: modulok automatikus újratöltéséhez, fejlesztés közbeni teszteléshez hasznos (részletek [itt](http://ipython.readthedocs.io/en/stable/config/extensions/autoreload.html?highlight=autoreload))"
   ]
  },
  {
   "cell_type": "markdown",
   "metadata": {},
   "source": [
    "### 5.3. Shell"
   ]
  },
  {
   "cell_type": "markdown",
   "metadata": {},
   "source": [
    "* Shell parancsok jó részét lehet futtatni a `!` prefixel, pl. `!ls`.\n",
    "* Egész cella shell-esíthető a `%%bash` _cell magic_-kel.\n",
    "* A `!cd` parancs nem használható, helyette van `%cd` magic.\n",
    "* Van még pár parancs, ami magic-ként is elérhető: `%cat`, `%cd`, `%env`, `%ls`, `%man`, `%mkdir`, `%more`, `%mv`, `%pwd`, `%rm`, `%rmdir`. Ezek un. _automagic_-ek, ami azt jelenti, hogy `%` nélkül is hívhatók IPython shell-ben (notebook-ban alapból nem).\n",
    "* Python-változónak értékül adható shell-parancs kimenete SList-ként. Az SList saját property-kkel és metódusokkal bír, l. a [dokumentációt](http://ipython.readthedocs.io/en/stable/api/generated/IPython.utils.text.html#IPython.utils.text.SList).\n",
    "* Kapcsos zárójelben (`{}`) átadható Python-változó shell parancsnak."
   ]
  },
  {
   "cell_type": "code",
   "execution_count": 12,
   "metadata": {},
   "outputs": [
    {
     "name": "stdout",
     "output_type": "stream",
     "text": [
      "<class 'IPython.utils.text.SList'>\n",
      "['.', '..', '.ipynb_checkpoints', 'jupyter.ipynb']\n"
     ]
    }
   ],
   "source": [
    "# Python-változónak értékadás shell parancs kimenetétvel\n",
    "var = !ls -a\n",
    "print(type(var))\n",
    "print(var)"
   ]
  },
  {
   "cell_type": "code",
   "execution_count": 14,
   "metadata": {},
   "outputs": [
    {
     "name": "stdout",
     "output_type": "stream",
     "text": [
      "hello\r\n"
     ]
    }
   ],
   "source": [
    "# Python-változó átadása shell-parancsnak:\n",
    "var = \"hello\"\n",
    "!echo {var}"
   ]
  },
  {
   "cell_type": "markdown",
   "metadata": {},
   "source": [
    "## 6. Egyebek"
   ]
  },
  {
   "cell_type": "markdown",
   "metadata": {},
   "source": [
    "### 6.1. Megosztás\n",
    "\n",
    "* [nbviewer](http://nbviewer.jupyter.org/): itt a megosztandó .ipynb fájl URL-jét kell beírni és az nbviever felületén meg lehet nézni a fájlt telepített jupyter nélkül is.\n",
    "* A [github.com](https://github.com) és a [gist.github.com](https://gist.github.com/) is rendesen megjeleníti az .ipynb fájlokat (már amikor éppen kedve van hozzá...).\n",
    "* [mybinder](https://mybinder.org/)\n",
    "* [jupyterhub](https://jupyterhub.readthedocs.io/en/latest/)"
   ]
  },
  {
   "cell_type": "markdown",
   "metadata": {},
   "source": [
    "### 6.2. Prezentáció\n",
    "\n",
    "Egy `ipynb` fájl konvertálása prezentációvá:\n",
    "\n",
    "Ez egy html alapú diasort hozhatunk létre *notebook*-unkból. Ehhez a következőket kell tenni:\n",
    "\n",
    "1. Be kell állítani a View/Cell Toolbar/Slideshow menüpontot.\n",
    "2. Ez után lehet az egyes cellák jobb felső sarkában konfigurálni az adott cella típusát:\n",
    "    * `Slide`: Rendes dia.\n",
    "    * `Subslide`: Az előző dia aldiája (egy subslide utáni subslide még mindig az utolsó *Slide*-nak lesz az alantasa, nem pedig az előző *Subslide*-nak lesz a *Subslide*-ja).\n",
    "    * `Fragment`: Ez a cella nem önállő dia lesz, hanem az előző (al)dia új részeként fog megjelenni\n",
    "    * `Skip`: Nem fog a diasorban megjelenni, pl kódot lehet vele elrejteni.\n",
    "    * `Notes`: Nem tudom, mire jó...\n",
    "3. Az ipynb fájlt konvetáljuk html slide-okká a következő paranccsal:\n",
    "\n",
    "    ```sh\n",
    "    jupyter-nbconvert file.ipynb --to slides \n",
    "    ```"
   ]
  },
  {
   "cell_type": "markdown",
   "metadata": {},
   "source": [
    "További lehetőségek\n",
    "\n",
    "* [extension](https://github.com/ipython-contrib/jupyter_contrib_nbextensions)-ök\n",
    "* prezentációhoz [RISE](https://github.com/damianavila/RISE) és [reveal.js](https://github.com/hakimel/reveal.js/)"
   ]
  }
 ],
 "metadata": {
  "kernelspec": {
   "display_name": "Python 3",
   "language": "python",
   "name": "python3"
  },
  "language_info": {
   "codemirror_mode": {
    "name": "ipython",
    "version": 3
   },
   "file_extension": ".py",
   "mimetype": "text/x-python",
   "name": "python",
   "nbconvert_exporter": "python",
   "pygments_lexer": "ipython3",
   "version": "3.7.6"
  }
 },
 "nbformat": 4,
 "nbformat_minor": 2
}
